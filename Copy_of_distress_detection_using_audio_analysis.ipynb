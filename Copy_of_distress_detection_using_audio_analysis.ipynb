{
  "cells": [
    {
      "cell_type": "code",
      "execution_count": null,
      "metadata": {
        "colab": {
          "base_uri": "https://localhost:8080/"
        },
        "id": "N4XjFAUmDpV6",
        "outputId": "66bf9114-ae58-4e80-b444-c583cc344286"
      },
      "outputs": [
        {
          "output_type": "stream",
          "name": "stdout",
          "text": [
            "Drive already mounted at /content/drive; to attempt to forcibly remount, call drive.mount(\"/content/drive\", force_remount=True).\n"
          ]
        }
      ],
      "source": [
        "from google.colab import drive\n",
        "drive.mount('/content/drive')"
      ]
    },
    {
      "cell_type": "code",
      "execution_count": null,
      "metadata": {
        "id": "4CKPHhxqoeid"
      },
      "outputs": [],
      "source": [
        "import os\n",
        "import glob\n",
        "Root = \"/content/drive/MyDrive/speech-emotion-recognition-ravdess-data\"\n",
        "os.chdir(Root)"
      ]
    },
    {
      "cell_type": "code",
      "source": [],
      "metadata": {
        "id": "dTpWa86WsP46"
      },
      "execution_count": null,
      "outputs": []
    },
    {
      "cell_type": "code",
      "execution_count": null,
      "metadata": {
        "colab": {
          "base_uri": "https://localhost:8080/"
        },
        "id": "CHlkrPZPpXlI",
        "outputId": "eb85cc88-ddb0-468d-c02f-28b80f234db5"
      },
      "outputs": [
        {
          "output_type": "stream",
          "name": "stdout",
          "text": [
            "\u001b[0m\u001b[01;34mActor_01\u001b[0m/  \u001b[01;34mActor_04\u001b[0m/  \u001b[01;34mActor_07\u001b[0m/  \u001b[01;34mActor_10\u001b[0m/  \u001b[01;34mActor_13\u001b[0m/  \u001b[01;34mActor_16\u001b[0m/  \u001b[01;34mActor_19\u001b[0m/  \u001b[01;34mActor_22\u001b[0m/\n",
            "\u001b[01;34mActor_02\u001b[0m/  \u001b[01;34mActor_05\u001b[0m/  \u001b[01;34mActor_08\u001b[0m/  \u001b[01;34mActor_11\u001b[0m/  \u001b[01;34mActor_14\u001b[0m/  \u001b[01;34mActor_17\u001b[0m/  \u001b[01;34mActor_20\u001b[0m/  \u001b[01;34mActor_23\u001b[0m/\n",
            "\u001b[01;34mActor_03\u001b[0m/  \u001b[01;34mActor_06\u001b[0m/  \u001b[01;34mActor_09\u001b[0m/  \u001b[01;34mActor_12\u001b[0m/  \u001b[01;34mActor_15\u001b[0m/  \u001b[01;34mActor_18\u001b[0m/  \u001b[01;34mActor_21\u001b[0m/  \u001b[01;34mActor_24\u001b[0m/\n"
          ]
        }
      ],
      "source": [
        "ls"
      ]
    },
    {
      "cell_type": "code",
      "execution_count": null,
      "metadata": {
        "id": "E5It2wIrxxeI"
      },
      "outputs": [],
      "source": [
        "\n",
        "import os\n",
        "import glob\n",
        "from tqdm import tqdm\n",
        "import pandas as pd\n",
        "import numpy as np\n",
        "import matplotlib.pyplot as plt\n",
        "from scipy.io import wavfile\n",
        "\n",
        "!pip install python_speech_features\n",
        "\n",
        "from python_speech_features import mfcc , logfbank\n",
        "import librosa as lr\n",
        "import os, glob, pickle\n",
        "import librosa\n",
        "from scipy import signal\n",
        "\n",
        "!pip install noisereduce\n",
        "\n",
        "import noisereduce as nr\n",
        "from glob import glob\n",
        "import librosa\n",
        "get_ipython().magic('matplotlib inline')\n",
        "\n",
        "import soundfile\n",
        "from tensorflow.keras.layers import Conv2D,MaxPool2D, Flatten, LSTM\n",
        "from keras.layers import Dropout,Dense,TimeDistributed\n",
        "from keras.models import Sequential\n",
        "from keras.utils import to_categorical\n",
        "from sklearn.utils.class_weight import compute_class_weight\n",
        "from sklearn.model_selection import train_test_split\n",
        "from sklearn.neural_network import MLPClassifier\n",
        "from sklearn.metrics import accuracy_score"
      ]
    },
    {
      "cell_type": "code",
      "execution_count": null,
      "metadata": {
        "colab": {
          "base_uri": "https://localhost:8080/"
        },
        "id": "aWfOkL7dHttE",
        "outputId": "1c38bc0e-e8c1-4c7a-9891-7ab52b0dfba0"
      },
      "outputs": [
        {
          "output_type": "execute_result",
          "data": {
            "text/plain": [
              "1450"
            ]
          },
          "metadata": {},
          "execution_count": 46
        }
      ],
      "source": [
        "os.listdir(path='/content/drive/MyDrive/speech-emotion-recognition-ravdess-data')\n",
        "def getListOfFiles(dirName):\n",
        "    listOfFile=os.listdir(dirName)\n",
        "    allFiles=list()\n",
        "    for entry in listOfFile:\n",
        "        fullPath=os.path.join(dirName, entry)\n",
        "        if os.path.isdir(fullPath):\n",
        "            allFiles=allFiles + getListOfFiles(fullPath)\n",
        "        else:\n",
        "            allFiles.append(fullPath)\n",
        "    return allFiles\n",
        "\n",
        "dirName = '/content/drive/MyDrive/speech-emotion-recognition-ravdess-data'\n",
        "listOfFiles = getListOfFiles(dirName)\n",
        "len(listOfFiles)"
      ]
    },
    {
      "cell_type": "code",
      "execution_count": null,
      "metadata": {
        "id": "AjPc6gfEHbwH"
      },
      "outputs": [],
      "source": [
        "!pip install SpeechRecognition\n",
        "\n",
        "import speech_recognition as sr\n",
        "r=sr.Recognizer()\n",
        "for file in range(0 , len(listOfFiles) , 1):\n",
        "    with sr.AudioFile(listOfFiles[file]) as source:\n",
        "        audio = r.listen(source)\n",
        "        try:\n",
        "            text = r.recognize_google(audio)\n",
        "            print(text)\n",
        "        except:\n",
        "            print('error')"
      ]
    },
    {
      "cell_type": "code",
      "source": [
        "def envelope(y , rate, threshold):\n",
        "    mask=[]\n",
        "    y=pd.Series(y).apply(np.abs)\n",
        "    y_mean = y.rolling(window=int(rate/10) ,  min_periods=1 , center = True).mean()\n",
        "    for mean in y_mean:\n",
        "        if mean>threshold:\n",
        "            mask.append(True)\n",
        "        else:\n",
        "            mask.append(False)\n",
        "    return mask"
      ],
      "metadata": {
        "id": "9XsSgTg3MUsT"
      },
      "execution_count": null,
      "outputs": []
    },
    {
      "cell_type": "code",
      "source": [
        "for file in range(0 , len(listOfFiles) , 1):\n",
        "    audio , sfreq = lr.load(listOfFiles[file])\n",
        "    time = np.arange(0 , len(audio)) / sfreq\n",
        "\n",
        "    fig ,ax = plt.subplots()\n",
        "    ax.plot(time , audio)\n",
        "    ax.set(xlabel = 'Time (s)' , ylabel = 'Sound Amplitude')\n",
        "    plt.show()\n",
        "\n",
        "for file in range(0 , len(listOfFiles) , 1):\n",
        "     sample_rate , samples = wavfile.read(listOfFiles[file])\n",
        "     frequencies , times, spectrogram = signal.spectrogram(samples, sample_rate)\n",
        "     plt.pcolormesh(times, frequencies, spectrogram)\n",
        "     plt.imshow(spectrogram)\n",
        "     plt.ylabel('Frequency [Hz]')\n",
        "     plt.xlabel('Time [sec]')\n",
        "     plt.show()"
      ],
      "metadata": {
        "id": "E4X4Wqp0MYzf"
      },
      "execution_count": null,
      "outputs": []
    },
    {
      "cell_type": "code",
      "execution_count": null,
      "metadata": {
        "id": "cOrKu9Cnphen"
      },
      "outputs": [],
      "source": [
        "#Extract features (mfcc, chroma, mel) from a sound file\n",
        "def extract_feature(file_name, mfcc, chroma, mel):\n",
        "    with soundfile.SoundFile(file_name) as sound_file:\n",
        "        X = sound_file.read(dtype=\"float32\")\n",
        "        sample_rate=sound_file.samplerate\n",
        "        if chroma:\n",
        "            stft=np.abs(librosa.stft(X))\n",
        "        result=np.array([])\n",
        "        if mfcc:\n",
        "            mfccs=np.mean(librosa.feature.mfcc(y=X, sr=sample_rate, n_mfcc=40).T, axis=0)\n",
        "            result=np.hstack((result, mfccs))\n",
        "        if chroma:\n",
        "            chroma=np.mean(librosa.feature.chroma_stft(S=stft, sr=sample_rate).T,axis=0)\n",
        "            result=np.hstack((result, chroma))\n",
        "        if mel:\n",
        "            mel=np.mean(librosa.feature.melspectrogram(y=X, sr=sample_rate).T,axis=0)\n",
        "            result=np.hstack((result, mel))\n",
        "    return result"
      ]
    },
    {
      "cell_type": "code",
      "execution_count": null,
      "metadata": {
        "id": "ljV0QLcXpmRP"
      },
      "outputs": [],
      "source": [
        "# Emotions in the RAVDESS dataset\n",
        "emotions={\n",
        "  '01':'neutral',\n",
        "  '02':'calm',\n",
        "  '03':'happy',\n",
        "  '04':'sad',\n",
        "  '05':'angry',\n",
        "  '06':'fearful',\n",
        "  '07':'disgust',\n",
        "  '08':'surprised'\n",
        "}\n",
        "\n",
        "#Emotions to observe\n",
        "observed_emotions=['calm', 'happy', 'fearful', 'disgust']"
      ]
    },
    {
      "cell_type": "code",
      "execution_count": null,
      "metadata": {
        "id": "O46uIg3kpzrG"
      },
      "outputs": [],
      "source": [
        "#Load the data and extract features for each sound file\n",
        "def load_data(test_size=0.2):\n",
        "    x,y=[],[]\n",
        "    for file in glob.glob(\"/content/drive/MyDrive/speech-emotion-recognition-ravdess-data/Actor_*/*.wav\"):\n",
        "        file_name=os.path.basename(file)\n",
        "        emotion=emotions[file_name.split(\"-\")[2]]\n",
        "        if emotion not in observed_emotions:\n",
        "            continue\n",
        "        feature=extract_feature(file, mfcc=True, chroma=True, mel=True)\n",
        "        x.append(feature)\n",
        "        y.append(emotion)\n",
        "    return train_test_split(np.array(x), y, test_size=test_size, random_state=9)"
      ]
    },
    {
      "cell_type": "code",
      "execution_count": null,
      "metadata": {
        "id": "gE_MSQYDqPqg"
      },
      "outputs": [],
      "source": [
        "#Split the dataset\n",
        "x_train,x_test,y_train,y_test=load_data(test_size=0.25)"
      ]
    },
    {
      "cell_type": "code",
      "execution_count": null,
      "metadata": {
        "id": "Fo872mW8urUM"
      },
      "outputs": [],
      "source": [
        "x_train"
      ]
    },
    {
      "cell_type": "code",
      "execution_count": null,
      "metadata": {
        "colab": {
          "base_uri": "https://localhost:8080/"
        },
        "id": "cNIOCRQ6qWOq",
        "outputId": "fda27cab-b76b-4b8f-a4f4-b824cd9dc0c4"
      },
      "outputs": [
        {
          "output_type": "stream",
          "name": "stdout",
          "text": [
            "(577, 193)\n"
          ]
        }
      ],
      "source": [
        "#Get the shape of the training and testing datasets\n",
        "print((x_train.shape[0], x_test.shape[0]))"
      ]
    },
    {
      "cell_type": "code",
      "execution_count": null,
      "metadata": {
        "colab": {
          "base_uri": "https://localhost:8080/"
        },
        "id": "XqoLMHgsqcP8",
        "outputId": "7e644e18-a763-43d3-e1a2-ae44aa0ea9db"
      },
      "outputs": [
        {
          "output_type": "stream",
          "name": "stdout",
          "text": [
            "Features extracted: 180\n"
          ]
        }
      ],
      "source": [
        "#Get the number of features extracted\n",
        "print(f'Features extracted: {x_train.shape[1]}')"
      ]
    },
    {
      "cell_type": "code",
      "execution_count": null,
      "metadata": {
        "id": "bQsjvZiwqcTN"
      },
      "outputs": [],
      "source": [
        "#Initialize the Multi Layer Perceptron Classifier\n",
        "model=MLPClassifier(alpha=0.01, batch_size=256, epsilon=1e-08, hidden_layer_sizes=(300,), learning_rate='adaptive', max_iter=500)"
      ]
    },
    {
      "cell_type": "code",
      "execution_count": null,
      "metadata": {
        "id": "tmZiXDHPqcV5"
      },
      "outputs": [],
      "source": [
        "#Train the model\n",
        "model.fit(x_train,y_train)"
      ]
    },
    {
      "cell_type": "code",
      "execution_count": null,
      "metadata": {
        "id": "lumz8vRQqcYs"
      },
      "outputs": [],
      "source": [
        "#Predict for the test set\n",
        "y_pred=model.predict(x_test)"
      ]
    },
    {
      "cell_type": "code",
      "execution_count": null,
      "metadata": {
        "id": "m604kmiFtxLP"
      },
      "outputs": [],
      "source": [
        "y_pred"
      ]
    },
    {
      "cell_type": "code",
      "execution_count": null,
      "metadata": {
        "colab": {
          "base_uri": "https://localhost:8080/"
        },
        "id": "IrCVcauwqkFs",
        "outputId": "73f5519d-6b69-4bc3-b56e-35e604d9a9f9"
      },
      "outputs": [
        {
          "output_type": "stream",
          "name": "stdout",
          "text": [
            "Accuracy: 62.18%\n"
          ]
        }
      ],
      "source": [
        "#Calculate the accuracy of our model\n",
        "accuracy=accuracy_score(y_true=y_test, y_pred=y_pred)\n",
        "\n",
        "#Print the accuracy\n",
        "print(\"Accuracy: {:.2f}%\".format(accuracy*100))"
      ]
    },
    {
      "cell_type": "code",
      "execution_count": null,
      "metadata": {
        "id": "vJ8_B3O0qkJG"
      },
      "outputs": [],
      "source": [
        "from sklearn.metrics import accuracy_score, f1_score"
      ]
    },
    {
      "cell_type": "code",
      "execution_count": null,
      "metadata": {
        "colab": {
          "base_uri": "https://localhost:8080/"
        },
        "id": "_Ry4if_sqkLr",
        "outputId": "106dc4b7-05e0-4f42-dcfc-d23d87dc9130"
      },
      "outputs": [
        {
          "output_type": "execute_result",
          "data": {
            "text/plain": [
              "array([0.72413793, 0.54945055, 0.64646465, 0.525     ])"
            ]
          },
          "metadata": {},
          "execution_count": 24
        }
      ],
      "source": [
        "f1_score(y_test, y_pred,average=None)"
      ]
    },
    {
      "cell_type": "code",
      "execution_count": null,
      "metadata": {
        "id": "0Rt9YfZkCO5A"
      },
      "outputs": [],
      "source": [
        "import pandas as pd\n",
        "df=pd.DataFrame({'Actual': y_test, 'Predicted':y_pred})\n",
        "df.head(20)"
      ]
    },
    {
      "cell_type": "code",
      "execution_count": null,
      "metadata": {
        "id": "eYPWbWLBqkN7"
      },
      "outputs": [],
      "source": [
        "import pickle\n",
        "# Writing different model files to file\n",
        "with open( 'modelForPrediction1.sav', 'wb') as f:\n",
        "    pickle.dump(model,f)"
      ]
    },
    {
      "cell_type": "code",
      "source": [
        "from IPython.display import Audio\n",
        "audio_file_path = '/content/drive/MyDrive/speech-emotion-recognition-ravdess-data/Actor_13/03-01-01-01-01-02-13.wav'\n",
        "Audio(audio_file_path)"
      ],
      "metadata": {
        "id": "-aQ59Tw-SFwL"
      },
      "execution_count": null,
      "outputs": []
    },
    {
      "cell_type": "code",
      "execution_count": null,
      "metadata": {
        "id": "dw0IfunzvqtV"
      },
      "outputs": [],
      "source": [
        "filename = 'modelForPrediction1.sav'\n",
        "loaded_model = pickle.load(open(filename, 'rb')) # loading the model file from the storage\n",
        "\n",
        "feature=extract_feature(\"/content/drive/MyDrive/speech-emotion-recognition-ravdess-data/Actor_13/03-01-01-01-01-02-13.wav\", mfcc=True, chroma=True, mel=True)\n",
        "\n",
        "feature=feature.reshape(1,-1)\n",
        "\n",
        "prediction=loaded_model.predict(feature)\n",
        "prediction"
      ]
    },
    {
      "cell_type": "code",
      "execution_count": null,
      "metadata": {
        "id": "grRD5MrTxOaL"
      },
      "outputs": [],
      "source": [
        "feature"
      ]
    },
    {
      "cell_type": "code",
      "execution_count": null,
      "metadata": {
        "id": "2b_mwxpsyugl"
      },
      "outputs": [],
      "source": []
    }
  ],
  "metadata": {
    "colab": {
      "provenance": []
    },
    "kernelspec": {
      "display_name": "Python 3",
      "name": "python3"
    },
    "language_info": {
      "name": "python"
    }
  },
  "nbformat": 4,
  "nbformat_minor": 0
}